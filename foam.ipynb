{
  "nbformat": 4,
  "nbformat_minor": 0,
  "metadata": {
    "colab": {
      "provenance": []
    },
    "kernelspec": {
      "name": "python3",
      "display_name": "Python 3"
    },
    "language_info": {
      "name": "python"
    }
  },
  "cells": [
    {
      "cell_type": "code",
      "source": [
        "from google.colab import drive\n",
        "drive.mount('/content/drive', force_remount=True)"
      ],
      "metadata": {
        "colab": {
          "base_uri": "https://localhost:8080/"
        },
        "id": "CbryOfBQSeHz",
        "outputId": "15134ca7-aa98-4cfd-fdd7-34d7f4b01c2b"
      },
      "execution_count": null,
      "outputs": [
        {
          "output_type": "stream",
          "name": "stdout",
          "text": [
            "Mounted at /content/drive\n"
          ]
        }
      ]
    },
    {
      "cell_type": "code",
      "source": [
        "!pip install colorthief"
      ],
      "metadata": {
        "colab": {
          "base_uri": "https://localhost:8080/"
        },
        "id": "4j1BXcOGPpsK",
        "outputId": "f55cc423-1cc5-461c-c174-4e2e1c556600"
      },
      "execution_count": null,
      "outputs": [
        {
          "output_type": "stream",
          "name": "stdout",
          "text": [
            "Looking in indexes: https://pypi.org/simple, https://us-python.pkg.dev/colab-wheels/public/simple/\n",
            "Collecting colorthief\n",
            "  Downloading colorthief-0.2.1-py2.py3-none-any.whl (6.1 kB)\n",
            "Requirement already satisfied: Pillow in /usr/local/lib/python3.9/dist-packages (from colorthief) (8.4.0)\n",
            "Installing collected packages: colorthief\n",
            "Successfully installed colorthief-0.2.1\n"
          ]
        }
      ]
    },
    {
      "cell_type": "code",
      "execution_count": null,
      "metadata": {
        "id": "kbXMkhOPRbou"
      },
      "outputs": [],
      "source": [
        "import os\n",
        "import shutil\n",
        "import cv2\n",
        "import numpy as np\n",
        "import pandas as pd\n",
        "\n",
        "import matplotlib.pyplot as plt    \n",
        "import seaborn as sns\n",
        "\n",
        "from skimage.transform import hough_circle, hough_circle_peaks\n",
        "from skimage.feature import canny\n",
        "from skimage.util import img_as_ubyte\n",
        "from skimage import io\n",
        "\n",
        "from colorthief import ColorThief\n",
        "from mpl_toolkits.mplot3d import Axes3D"
      ]
    },
    {
      "cell_type": "code",
      "source": [
        "path_mp4 = '/content/drive/MyDrive/interviews/belka/foam.mp4'"
      ],
      "metadata": {
        "id": "jGzD_NDxSbUk"
      },
      "execution_count": null,
      "outputs": []
    },
    {
      "cell_type": "code",
      "source": [
        "my_threshold = 130"
      ],
      "metadata": {
        "id": "Whslx6NvnXxx"
      },
      "execution_count": null,
      "outputs": []
    },
    {
      "cell_type": "code",
      "source": [
        "def get_frames(video_file, folder_name):\n",
        "  \n",
        "  if not os.path.exists(folder_name):\n",
        "    os.makedirs(folder_name)\n",
        "\n",
        "  count = 0\n",
        "  cap = cv2.VideoCapture(video_file)   # загрузка видео \n",
        "  frameRate = cap.get(5) # частота кадров\n",
        "  while(cap.isOpened()):\n",
        "    frameId = cap.get(1) # номер текущего кадра\n",
        "    ret, frame = cap.read()\n",
        "    if ret:\n",
        "      filename =\"frame%d.jpg\" % count\n",
        "      count+=1\n",
        "      directory = os.path.join(folder_name, filename)\n",
        "      cv2.imwrite(directory, frame)\n",
        "    else:\n",
        "      break\n",
        "\n",
        "  cap.release()\n",
        "  cv2.destroyAllWindows()"
      ],
      "metadata": {
        "id": "Xk04-JGQUYqQ"
      },
      "execution_count": null,
      "outputs": []
    },
    {
      "cell_type": "code",
      "source": [
        "def crop_frames(path_folder):\n",
        "  # подсчет числа файлов, подлежащих обрезке\n",
        "  files = os.listdir(path_folder)\n",
        "  num_imgs = len(files)\n",
        "\n",
        "  # создание папки для новых файлов  \n",
        "  new_folder = 'foam_crop'\n",
        "  if not os.path.exists(new_folder):\n",
        "    os.makedirs(new_folder)\n",
        "\n",
        "  for id_img in range(num_imgs):\n",
        "    # открытие файла\n",
        "    path = os.path.join(path_folder, \"frame%d.jpg\" % id_img)\n",
        "    img = cv2.imread(path)\n",
        "    img_gr = cv2.cvtColor(img, cv2.COLOR_BGR2GRAY)\n",
        "    image = img_as_ubyte(img_gr)\n",
        "\n",
        "    # обнаружение края\n",
        "    edges = canny(image, sigma=2)\n",
        "    #image = cv2.cvtColor(image,cv2.COLOR_GRAY2RGB)\n",
        "\n",
        "    # обнаружение одного радиуса в интервале от 120 до 200 с шагом 1\n",
        "    hough_radii = np.arange(120, 200, 1)\n",
        "    hough_res = hough_circle(edges, hough_radii)\n",
        "\n",
        "    # Выбор самого подходящего радиуса\n",
        "    accums, cx, cy, radii = hough_circle_peaks(hough_res, hough_radii,\n",
        "                                              total_num_peaks=1)\n",
        "\n",
        "    # создание нового \"пустого\" изображения\n",
        "    h,w,_ = img.shape\n",
        "    mask = np.zeros((h,w), np.uint8)\n",
        "\n",
        "    # изображение круга\n",
        "    cv2.circle(mask, (cx[0],cy[0]), radii[0], 255, -1)\n",
        "\n",
        "    # наложение маски\n",
        "    crop_img = cv2.bitwise_and(img, img, mask= mask)\n",
        "    \n",
        "    # обрезка края по пользовательским координатам \n",
        "    x_min, x_max = 150, 560\n",
        "    y_min, y_max = 70, 490\n",
        "    crop_img = crop_img[y_min:y_max, x_min:x_max]\n",
        "  \n",
        "    # сохранение файла\n",
        "    directory = os.path.join(new_folder, \"frame_crop%d.jpg\" % id_img)\n",
        "    cv2.imwrite(directory, crop_img)"
      ],
      "metadata": {
        "id": "Kr_-ngYpaZy9"
      },
      "execution_count": null,
      "outputs": []
    },
    {
      "cell_type": "code",
      "source": [
        "def lab_graph(path_img, threshold_img):\n",
        "  # создание папки для графиков\n",
        "  new_folder = 'graphs'\n",
        "  if not os.path.exists(new_folder):\n",
        "    os.makedirs(new_folder)\n",
        "\n",
        "  img = cv2.imread(path_img)\n",
        "  img_rgba = cv2.cvtColor(img,cv2.COLOR_BGR2RGBA)\n",
        "  img_lab = cv2.cvtColor(img, cv2.COLOR_BGR2LAB)\n",
        "  y,x,z = img_lab.shape\n",
        "  \n",
        "  # очистка изображений от черных  и бликовых пикселей  по их id\n",
        "  id_black = np.where(img_rgba[:,:,-1] == 0)\n",
        "  id_white = np.where(threshold_img[:,:] == 255)\n",
        "\n",
        "  id_del_x = np.concatenate((id_black[0], id_white[0]))\n",
        "  id_del_y = np.concatenate((id_black[1], id_white[1]))\n",
        "  id_del_x, id_del_y = np.sort(id_del_x), np.sort(id_del_y)\n",
        "\n",
        "  img_lab_2d = img_lab.reshape((y*x,z))\n",
        "  lab_clear = img_lab_2d.copy()\n",
        "\n",
        "  img_rgba_2d = img_rgba.reshape((y*x,4))\n",
        "  rgba_clear = img_rgba_2d.copy()\n",
        "  # удаление строк начиная снизу\n",
        "  for id_x, id_y in zip(id_del_x[::-1], id_del_y[::-1]):\n",
        "    #номер строки для удаления с учётом изменения размерности\n",
        "    id_del = id_x*x+id_y\n",
        "    lab_clear = np.concatenate((lab_clear[:id_del],lab_clear[id_del+1:]), axis = 0)\n",
        "    rgba_clear = np.concatenate((rgba_clear[:id_del],rgba_clear[id_del+1:]), axis = 0)\n",
        "\n",
        "  colors = rgba_clear/255\n",
        "\n",
        "  fig = plt.figure(figsize = (20,30))\n",
        "  ax = fig.add_subplot(111, projection='3d')\n",
        "  ax.scatter(xs=lab_clear[:,2], ys=lab_clear[:,1], zs=lab_clear[:,0],\n",
        "             s=10,  c=colors, lw=0)\n",
        "  ax.set_xlabel('A')\n",
        "  ax.set_ylabel('B')\n",
        "  ax.set_zlabel('L')\n",
        "\n",
        "  #plt.show()\n",
        "  id_img = int(path_img.split('crop')[-1].split('.')[0])\n",
        "  plt.savefig(os.path.join(new_folder, \"plot_LAB%d.png\" % id_img))\n",
        "  plt.close()"
      ],
      "metadata": {
        "id": "DawFBJ3dQ4-C"
      },
      "execution_count": null,
      "outputs": []
    },
    {
      "cell_type": "code",
      "source": [
        "def monitoring(path_folder):\n",
        "  # подсчет числа файлов для мониторинга\n",
        "  files = os.listdir(path_folder)\n",
        "  num_imgs = len(files)\n",
        "\n",
        "  highlights_size = []\n",
        "  num_highlight = []\n",
        "  palette = []\n",
        "\n",
        "  for id_img in range(num_imgs):\n",
        "    # открытие файла\n",
        "    path = os.path.join(path_folder, \"frame_crop%d.jpg\" % id_img)\n",
        "    img = cv2.imread(path)\n",
        "    img_gray = cv2.cvtColor(img, cv2.COLOR_BGR2GRAY)\n",
        "\n",
        "    # Расчет количества бликованных пикселей \n",
        "    # так как на видео освещение равномерное и не меняется,\n",
        "    # то граница для всех фреймов будет константой, определенной опытным путём\n",
        "    # по гистограмме ax.hist(img_gray.ravel(), bins=255)\n",
        "    threshold=my_threshold\n",
        "    _,threshold_img = cv2.threshold(img_gray, threshold, 255, cv2.THRESH_BINARY)\n",
        "    highlights_size_img = np.count_nonzero(threshold_img)\n",
        "    highlights_size.append(highlights_size_img)\n",
        "\n",
        "    # Расчет количества бликов\n",
        "    # координаты точек не нужны, поэтому аппроксимация методом Simple\n",
        "    # для бликов, которые могут быть многослойны, скорее всего, нужен режим поиска\n",
        "    # контуров RETR_TREE, который восстанавливает полную иерархию вложенных контуров\n",
        "    contours, hier = cv2.findContours(threshold_img, cv2.RETR_TREE,cv2.CHAIN_APPROX_SIMPLE)\n",
        "    count = len(contours)\n",
        "    num_highlight.append(count)\n",
        "    \n",
        "    # Определение цвета пены\n",
        "    color_thief = ColorThief(path)\n",
        "    palette_img = color_thief.get_palette(color_count=3)\n",
        "    palette.append(palette_img[1]) # под нулевым индексом преобладающий цвет маски (чёрный)\n",
        "\n",
        "    # Построение LAB-графика и сохранение в отдельный файл\n",
        "    lab_graph(path, threshold_img)\n",
        "\n",
        "  return highlights_size, num_highlight, palette"
      ],
      "metadata": {
        "id": "13u8mot3Mcnf"
      },
      "execution_count": null,
      "outputs": []
    },
    {
      "cell_type": "code",
      "source": [
        "get_frames(path_mp4, 'foam_data')"
      ],
      "metadata": {
        "id": "gCpuHvq_UeIr"
      },
      "execution_count": null,
      "outputs": []
    },
    {
      "cell_type": "code",
      "source": [
        "crop_frames('/content/foam_data/')"
      ],
      "metadata": {
        "id": "uqMsMfGW4AWF"
      },
      "execution_count": null,
      "outputs": []
    },
    {
      "cell_type": "code",
      "source": [
        "highlights_size, num_highlight, palette = monitoring('/content/foam_crop/')"
      ],
      "metadata": {
        "id": "mHOq6Sf4M07i"
      },
      "execution_count": null,
      "outputs": []
    },
    {
      "cell_type": "code",
      "source": [
        "df = pd.DataFrame(list(zip(highlights_size, num_highlight, palette)),columns =['size', 'number', 'main_color'])"
      ],
      "metadata": {
        "id": "Ybz9Ipq7V_zW"
      },
      "execution_count": null,
      "outputs": []
    },
    {
      "cell_type": "code",
      "source": [
        "df"
      ],
      "metadata": {
        "colab": {
          "base_uri": "https://localhost:8080/",
          "height": 423
        },
        "id": "p8bVvCOXj8Sd",
        "outputId": "434c0cd3-bf35-4be8-c677-3eb19b34957d"
      },
      "execution_count": null,
      "outputs": [
        {
          "output_type": "execute_result",
          "data": {
            "text/plain": [
              "     size  number       main_color\n",
              "0    8170     619  (174, 164, 188)\n",
              "1    8048     562  (182, 172, 196)\n",
              "2    8152     588  (182, 173, 196)\n",
              "3    8148     562  (180, 171, 195)\n",
              "4    8024     612  (179, 169, 193)\n",
              "..    ...     ...              ...\n",
              "161  8371     716  (177, 167, 191)\n",
              "162  8338     647  (177, 167, 191)\n",
              "163  8416     670  (171, 162, 186)\n",
              "164  7957     626  (170, 161, 185)\n",
              "165  8207     683  (176, 166, 190)\n",
              "\n",
              "[166 rows x 3 columns]"
            ],
            "text/html": [
              "\n",
              "  <div id=\"df-6b5d5548-8303-41b3-9aff-24528ca42c83\">\n",
              "    <div class=\"colab-df-container\">\n",
              "      <div>\n",
              "<style scoped>\n",
              "    .dataframe tbody tr th:only-of-type {\n",
              "        vertical-align: middle;\n",
              "    }\n",
              "\n",
              "    .dataframe tbody tr th {\n",
              "        vertical-align: top;\n",
              "    }\n",
              "\n",
              "    .dataframe thead th {\n",
              "        text-align: right;\n",
              "    }\n",
              "</style>\n",
              "<table border=\"1\" class=\"dataframe\">\n",
              "  <thead>\n",
              "    <tr style=\"text-align: right;\">\n",
              "      <th></th>\n",
              "      <th>size</th>\n",
              "      <th>number</th>\n",
              "      <th>main_color</th>\n",
              "    </tr>\n",
              "  </thead>\n",
              "  <tbody>\n",
              "    <tr>\n",
              "      <th>0</th>\n",
              "      <td>8170</td>\n",
              "      <td>619</td>\n",
              "      <td>(174, 164, 188)</td>\n",
              "    </tr>\n",
              "    <tr>\n",
              "      <th>1</th>\n",
              "      <td>8048</td>\n",
              "      <td>562</td>\n",
              "      <td>(182, 172, 196)</td>\n",
              "    </tr>\n",
              "    <tr>\n",
              "      <th>2</th>\n",
              "      <td>8152</td>\n",
              "      <td>588</td>\n",
              "      <td>(182, 173, 196)</td>\n",
              "    </tr>\n",
              "    <tr>\n",
              "      <th>3</th>\n",
              "      <td>8148</td>\n",
              "      <td>562</td>\n",
              "      <td>(180, 171, 195)</td>\n",
              "    </tr>\n",
              "    <tr>\n",
              "      <th>4</th>\n",
              "      <td>8024</td>\n",
              "      <td>612</td>\n",
              "      <td>(179, 169, 193)</td>\n",
              "    </tr>\n",
              "    <tr>\n",
              "      <th>...</th>\n",
              "      <td>...</td>\n",
              "      <td>...</td>\n",
              "      <td>...</td>\n",
              "    </tr>\n",
              "    <tr>\n",
              "      <th>161</th>\n",
              "      <td>8371</td>\n",
              "      <td>716</td>\n",
              "      <td>(177, 167, 191)</td>\n",
              "    </tr>\n",
              "    <tr>\n",
              "      <th>162</th>\n",
              "      <td>8338</td>\n",
              "      <td>647</td>\n",
              "      <td>(177, 167, 191)</td>\n",
              "    </tr>\n",
              "    <tr>\n",
              "      <th>163</th>\n",
              "      <td>8416</td>\n",
              "      <td>670</td>\n",
              "      <td>(171, 162, 186)</td>\n",
              "    </tr>\n",
              "    <tr>\n",
              "      <th>164</th>\n",
              "      <td>7957</td>\n",
              "      <td>626</td>\n",
              "      <td>(170, 161, 185)</td>\n",
              "    </tr>\n",
              "    <tr>\n",
              "      <th>165</th>\n",
              "      <td>8207</td>\n",
              "      <td>683</td>\n",
              "      <td>(176, 166, 190)</td>\n",
              "    </tr>\n",
              "  </tbody>\n",
              "</table>\n",
              "<p>166 rows × 3 columns</p>\n",
              "</div>\n",
              "      <button class=\"colab-df-convert\" onclick=\"convertToInteractive('df-6b5d5548-8303-41b3-9aff-24528ca42c83')\"\n",
              "              title=\"Convert this dataframe to an interactive table.\"\n",
              "              style=\"display:none;\">\n",
              "        \n",
              "  <svg xmlns=\"http://www.w3.org/2000/svg\" height=\"24px\"viewBox=\"0 0 24 24\"\n",
              "       width=\"24px\">\n",
              "    <path d=\"M0 0h24v24H0V0z\" fill=\"none\"/>\n",
              "    <path d=\"M18.56 5.44l.94 2.06.94-2.06 2.06-.94-2.06-.94-.94-2.06-.94 2.06-2.06.94zm-11 1L8.5 8.5l.94-2.06 2.06-.94-2.06-.94L8.5 2.5l-.94 2.06-2.06.94zm10 10l.94 2.06.94-2.06 2.06-.94-2.06-.94-.94-2.06-.94 2.06-2.06.94z\"/><path d=\"M17.41 7.96l-1.37-1.37c-.4-.4-.92-.59-1.43-.59-.52 0-1.04.2-1.43.59L10.3 9.45l-7.72 7.72c-.78.78-.78 2.05 0 2.83L4 21.41c.39.39.9.59 1.41.59.51 0 1.02-.2 1.41-.59l7.78-7.78 2.81-2.81c.8-.78.8-2.07 0-2.86zM5.41 20L4 18.59l7.72-7.72 1.47 1.35L5.41 20z\"/>\n",
              "  </svg>\n",
              "      </button>\n",
              "      \n",
              "  <style>\n",
              "    .colab-df-container {\n",
              "      display:flex;\n",
              "      flex-wrap:wrap;\n",
              "      gap: 12px;\n",
              "    }\n",
              "\n",
              "    .colab-df-convert {\n",
              "      background-color: #E8F0FE;\n",
              "      border: none;\n",
              "      border-radius: 50%;\n",
              "      cursor: pointer;\n",
              "      display: none;\n",
              "      fill: #1967D2;\n",
              "      height: 32px;\n",
              "      padding: 0 0 0 0;\n",
              "      width: 32px;\n",
              "    }\n",
              "\n",
              "    .colab-df-convert:hover {\n",
              "      background-color: #E2EBFA;\n",
              "      box-shadow: 0px 1px 2px rgba(60, 64, 67, 0.3), 0px 1px 3px 1px rgba(60, 64, 67, 0.15);\n",
              "      fill: #174EA6;\n",
              "    }\n",
              "\n",
              "    [theme=dark] .colab-df-convert {\n",
              "      background-color: #3B4455;\n",
              "      fill: #D2E3FC;\n",
              "    }\n",
              "\n",
              "    [theme=dark] .colab-df-convert:hover {\n",
              "      background-color: #434B5C;\n",
              "      box-shadow: 0px 1px 3px 1px rgba(0, 0, 0, 0.15);\n",
              "      filter: drop-shadow(0px 1px 2px rgba(0, 0, 0, 0.3));\n",
              "      fill: #FFFFFF;\n",
              "    }\n",
              "  </style>\n",
              "\n",
              "      <script>\n",
              "        const buttonEl =\n",
              "          document.querySelector('#df-6b5d5548-8303-41b3-9aff-24528ca42c83 button.colab-df-convert');\n",
              "        buttonEl.style.display =\n",
              "          google.colab.kernel.accessAllowed ? 'block' : 'none';\n",
              "\n",
              "        async function convertToInteractive(key) {\n",
              "          const element = document.querySelector('#df-6b5d5548-8303-41b3-9aff-24528ca42c83');\n",
              "          const dataTable =\n",
              "            await google.colab.kernel.invokeFunction('convertToInteractive',\n",
              "                                                     [key], {});\n",
              "          if (!dataTable) return;\n",
              "\n",
              "          const docLinkHtml = 'Like what you see? Visit the ' +\n",
              "            '<a target=\"_blank\" href=https://colab.research.google.com/notebooks/data_table.ipynb>data table notebook</a>'\n",
              "            + ' to learn more about interactive tables.';\n",
              "          element.innerHTML = '';\n",
              "          dataTable['output_type'] = 'display_data';\n",
              "          await google.colab.output.renderOutput(dataTable, element);\n",
              "          const docLink = document.createElement('div');\n",
              "          docLink.innerHTML = docLinkHtml;\n",
              "          element.appendChild(docLink);\n",
              "        }\n",
              "      </script>\n",
              "    </div>\n",
              "  </div>\n",
              "  "
            ]
          },
          "metadata": {},
          "execution_count": 75
        }
      ]
    },
    {
      "cell_type": "code",
      "source": [
        "fig, ax = plt.subplots(figsize = (15,8))\n",
        "sns.scatterplot(\n",
        "    data=df, x=list(df.index), y=\"number\", hue=\"size\", size=\"size\",\n",
        "    sizes=(20, 200), legend=\"auto\"\n",
        ")\n",
        "ax.set_xlabel('Frame')\n",
        "ax.set_ylabel('Number of highlights')\n",
        "ax.set_title('Size and number of highlights')\n",
        "plt.show()"
      ],
      "metadata": {
        "colab": {
          "base_uri": "https://localhost:8080/",
          "height": 513
        },
        "id": "c_As6FfAQzky",
        "outputId": "f64901b0-7771-4349-e8c1-a116160b6ddb"
      },
      "execution_count": null,
      "outputs": [
        {
          "output_type": "display_data",
          "data": {
            "text/plain": [
              "<Figure size 1080x576 with 1 Axes>"
            ],
            "image/png": "[encoded data removed]"
          },
          "metadata": {
            "needs_background": "light"
          }
        }
      ]
    },
    {
      "cell_type": "code",
      "source": [
        "fame_color = np.stack(df['main_color'].apply(lambda x: np.array(x)).values).reshape(1,166,3)"
      ],
      "metadata": {
        "id": "lnoV251S53V-"
      },
      "execution_count": null,
      "outputs": []
    },
    {
      "cell_type": "code",
      "source": [
        "# изменение цвета пены во времени\n",
        "fig, ax = plt.subplots(figsize = (100,20))\n",
        "io.imshow(fame_color)"
      ],
      "metadata": {
        "colab": {
          "base_uri": "https://localhost:8080/",
          "height": 168
        },
        "id": "QpSF92oF24D7",
        "outputId": "f8789fcf-5c77-4b3a-9ba3-12357cdea1d4"
      },
      "execution_count": null,
      "outputs": [
        {
          "output_type": "stream",
          "name": "stderr",
          "text": [
            "/usr/local/lib/python3.9/dist-packages/skimage/io/_plugins/matplotlib_plugin.py:150: UserWarning: Low image data range; displaying image with stretched contrast.\n",
            "  lo, hi, cmap = _get_display_range(image)\n"
          ]
        },
        {
          "output_type": "execute_result",
          "data": {
            "text/plain": [
              "<matplotlib.image.AxesImage at 0x7f29c4e69850>"
            ]
          },
          "metadata": {},
          "execution_count": 151
        },
        {
          "output_type": "display_data",
          "data": {
            "text/plain": [
              "<Figure size 7200x1440 with 2 Axes>"
            ],
            "image/png": "[encoded data removed]"
          },
          "metadata": {
            "needs_background": "light"
          }
        }
      ]
    }
  ]
}